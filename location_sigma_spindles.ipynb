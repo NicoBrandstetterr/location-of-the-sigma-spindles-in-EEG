{
 "cells": [
  {
   "cell_type": "markdown",
   "metadata": {},
   "source": [
    "Nicolas Brandstetter\n",
    "Felipe Keim"
   ]
  },
  {
   "cell_type": "code",
   "execution_count": 1,
   "metadata": {},
   "outputs": [],
   "source": [
    "#Imports\n",
    "import numpy as np\n",
    "import torch\n"
   ]
  },
  {
   "cell_type": "code",
   "execution_count": null,
   "metadata": {},
   "outputs": [],
   "source": [
    "# loading data\n",
    "test_marks = np.load('data_sigma_spindles/test_marks.npy')\n",
    "test_signals = np.load('data_sigma_spindles/test_signals.npy')\n",
    "train_marks = np.load('data_sigma_spindles/train_marks.npy')\n",
    "train_signals = np.load('data_sigma_spindles/train_signals.npy')\n",
    "val_marks = np.load('data_sigma_spindles/val_marks.npy')\n",
    "val_signals = np.load('data_sigma_spindles/val_signals.npy')"
   ]
  }
 ],
 "metadata": {
  "kernelspec": {
   "display_name": "Python 3.8.3 ('base')",
   "language": "python",
   "name": "python3"
  },
  "language_info": {
   "codemirror_mode": {
    "name": "ipython",
    "version": 3
   },
   "file_extension": ".py",
   "mimetype": "text/x-python",
   "name": "python",
   "nbconvert_exporter": "python",
   "pygments_lexer": "ipython3",
   "version": "3.8.3"
  },
  "orig_nbformat": 4,
  "vscode": {
   "interpreter": {
    "hash": "e654902f1877883cfc0f8194d1615c44937abe63f3bb0e0105192e55863f0170"
   }
  }
 },
 "nbformat": 4,
 "nbformat_minor": 2
}
