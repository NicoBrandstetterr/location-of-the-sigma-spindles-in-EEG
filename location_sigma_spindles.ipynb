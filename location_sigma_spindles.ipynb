{
 "cells": [
  {
   "cell_type": "markdown",
   "metadata": {},
   "source": [
    "Nicolas Brandstetter\n",
    "Felipe Keim\n",
    "\n",
    "Predicción de inicio y final de un evento de huso del sueño"
   ]
  },
  {
   "cell_type": "code",
   "execution_count": 42,
   "metadata": {},
   "outputs": [],
   "source": [
    "#Imports\n",
    "import numpy as np\n",
    "import torch\n",
    "from torch import nn\n",
    "import torchvision\n",
    "import matplotlib.pyplot as plt\n",
    "import os\n",
    "import sys\n",
    "import time"
   ]
  },
  {
   "cell_type": "markdown",
   "metadata": {},
   "source": [
    "# loading data"
   ]
  },
  {
   "cell_type": "code",
   "execution_count": 43,
   "metadata": {},
   "outputs": [],
   "source": [
    "test_marks = torch.tensor(np.load('data_sigma_spindles/test_marks.npy'))\n",
    "test_signals = torch.tensor(np.load('data_sigma_spindles/test_signals.npy'))\n",
    "train_marks = torch.tensor(np.load('data_sigma_spindles/train_marks.npy'))\n",
    "train_signals = torch.tensor(np.load('data_sigma_spindles/train_signals.npy'))\n",
    "val_marks = torch.tensor(np.load('data_sigma_spindles/val_marks.npy'))\n",
    "val_signals = torch.tensor(np.load('data_sigma_spindles/val_signals.npy'))"
   ]
  },
  {
   "cell_type": "markdown",
   "metadata": {},
   "source": [
    "## Creating Dataset"
   ]
  },
  {
   "cell_type": "code",
   "execution_count": 44,
   "metadata": {},
   "outputs": [],
   "source": [
    "train_ds = torch.utils.data.TensorDataset(train_signals, train_marks)\n",
    "val_ds = torch.utils.data.TensorDataset(val_signals, val_marks)\n",
    "test_ds = torch.utils.data.TensorDataset(test_signals, test_marks)"
   ]
  },
  {
   "cell_type": "markdown",
   "metadata": {},
   "source": [
    "# Model Definition"
   ]
  },
  {
   "cell_type": "code",
   "execution_count": null,
   "metadata": {},
   "outputs": [],
   "source": [
    "\n",
    "class CNN_Model(nn.Module):\n",
    "    def __init__(\n",
    "        self,\n",
    "        dropout_p,\n",
    "    ):\n",
    "        super().__init__()\n",
    "        self.conv_blocks = nn.Sequential(\n",
    "\n",
    "          \n",
    "            nn.Conv2d(800,2,kernel_size=1,padding=\"same\"),\n",
    "            nn.AvgPool2d(3),\n",
    "            nn.Flatten(),\n",
    "        )\n",
    "\n",
    "\n",
    "    def forward(self, x):\n",
    "        return self.conv_blocks(x)"
   ]
  },
  {
   "cell_type": "markdown",
   "metadata": {},
   "source": [
    "# Función de entrenamiento y visualización"
   ]
  },
  {
   "cell_type": "markdown",
   "metadata": {},
   "source": [
    "## Curvas"
   ]
  },
  {
   "cell_type": "code",
   "execution_count": null,
   "metadata": {},
   "outputs": [],
   "source": [
    "def show_curves(curves):\n",
    "    fig, ax = plt.subplots(1, 2, figsize=(13, 5))\n",
    "    fig.set_facecolor('white')\n",
    "\n",
    "    epochs = np.arange(len(curves[\"val_loss\"])) + 1\n",
    "\n",
    "    ax[0].plot(epochs, curves['val_loss'], label='validation')\n",
    "    ax[0].plot(epochs, curves['train_loss'], label='training')\n",
    "    ax[0].set_xlabel('Epoch')\n",
    "    ax[0].set_ylabel('Loss')\n",
    "    ax[0].set_title('Loss evolution during training')\n",
    "    ax[0].legend()\n",
    "\n",
    "    ax[1].plot(epochs, curves['val_acc'], label='validation')\n",
    "    ax[1].plot(epochs, curves['train_acc'], label='training')\n",
    "    ax[1].set_xlabel('Epoch')\n",
    "    ax[1].set_ylabel('Accuracy')\n",
    "    ax[1].set_title('Accuracy evolution during training')\n",
    "    ax[1].legend()\n",
    "    plt.show()\n",
    "\n",
    "def train_step(x_batch, y_batch, model, optimizer, criterion, use_gpu):\n",
    "    # Predicción\n",
    "    y_predicted = model(x_batch)\n",
    "\n",
    "    # Cálculo de loss\n",
    "    loss = criterion(y_predicted, y_batch)\n",
    "\n",
    "    # Actualización de parámetros\n",
    "    optimizer.zero_grad()\n",
    "    loss.backward()\n",
    "    optimizer.step()\n",
    "\n",
    "    return y_predicted, loss\n",
    "\n",
    "def evaluate(val_loader, model, criterion, use_gpu):\n",
    "    cumulative_loss = 0\n",
    "    cumulative_predictions = 0\n",
    "    data_count = 0\n",
    "\n",
    "    for x_val, y_val in val_loader:\n",
    "        if use_gpu:\n",
    "            x_val = x_val.cuda()\n",
    "            y_val = y_val.cuda()\n",
    "\n",
    "        y_predicted = model(x_val)\n",
    "        \n",
    "        loss = criterion(y_predicted, y_val)\n",
    "\n",
    "        class_prediction = torch.argmax(y_predicted, axis=1).long()\n",
    "\n",
    "        cumulative_predictions += (y_val == class_prediction).sum().item()\n",
    "        cumulative_loss += loss.item()\n",
    "        data_count += y_val.shape[0]\n",
    "\n",
    "    val_acc = cumulative_predictions / data_count\n",
    "    val_loss = cumulative_loss / len(val_loader)\n",
    "\n",
    "    return val_acc, val_loss\n",
    "\n"
   ]
  },
  {
   "cell_type": "markdown",
   "metadata": {},
   "source": [
    "## Training"
   ]
  },
  {
   "cell_type": "code",
   "execution_count": null,
   "metadata": {},
   "outputs": [],
   "source": [
    "def train_model(\n",
    "    model,\n",
    "    train_dataset,\n",
    "    train_res,\n",
    "    val_dataset,\n",
    "    val_res,\n",
    "    epochs,\n",
    "    criterion,\n",
    "    batch_size,\n",
    "    lr,\n",
    "    n_evaluations_per_epoch=6,\n",
    "    use_gpu=False,\n",
    "    data_augmentation=False,\n",
    "):\n",
    "    original_transform = torchvision.transforms.Compose([\n",
    "        torchvision.transforms.ToTensor(),\n",
    "        torchvision.transforms.Normalize((0.4914, 0.4822, 0.4465), (0.247, 0.243, 0.261)),\n",
    "    ])\n",
    "\n",
    "    # if data_augmentation:\n",
    "    #     train_dataset.dataset.transform = torchvision.transforms.Compose([\n",
    "    #         original_transform,\n",
    "    #         torchvision.transforms.RandomHorizontalFlip(),\n",
    "    #         torchvision.transforms.Lambda(lambda x: x + torch.randn(3, 1, 1) * 0.05)\n",
    "    #     ])\n",
    "\n",
    "    # else:\n",
    "    #     train_dataset.dataset.transform = original_transform\n",
    "    train_dataset.dataset.transform = original_transform\n",
    "\n",
    "    print(f\"Using train transform: {train_dataset.dataset.transform}\")\n",
    "    print(f\"Using validation transform: {val_dataset.dataset.transform}\")\n",
    "\n",
    "    if use_gpu:\n",
    "        model.cuda()\n",
    "\n",
    "    # Definición de dataloader\n",
    "    train_loader = torch.utils.data.DataLoader(train_dataset, batch_size=batch_size, shuffle=True, num_workers=2, pin_memory=use_gpu)\n",
    "    val_loader = torch.utils.data.DataLoader(val_dataset, batch_size=len(val_dataset), shuffle=False, pin_memory=use_gpu)\n",
    "\n",
    "    # Optimizador\n",
    "    optimizer = torch.optim.Adam(model.parameters(), lr=lr)\n",
    "\n",
    "    # Listas para guardar curvas de entrenamiento\n",
    "    curves = {\n",
    "        \"train_acc\": [],\n",
    "        \"val_acc\": [],\n",
    "        \"train_loss\": [],\n",
    "        \"val_loss\": [],\n",
    "    }\n",
    "\n",
    "    t0 = time.perf_counter()\n",
    "\n",
    "    iteration = 0\n",
    "\n",
    "    n_batches = len(train_loader)\n",
    "\n",
    "    for epoch in range(epochs):\n",
    "        print(f\"\\rEpoch {epoch + 1}/{epochs}\")\n",
    "        cumulative_train_loss = 0\n",
    "        cumulative_train_corrects = 0\n",
    "        train_loss_count = 0\n",
    "        train_acc_count = 0\n",
    "\n",
    "\n",
    "        # Entrenamiento del modelo\n",
    "        model.train()\n",
    "\n",
    "        for i, (x_batch, y_batch) in enumerate(train_loader):\n",
    "            if use_gpu:\n",
    "                x_batch = x_batch.cuda()\n",
    "                y_batch = y_batch.cuda()\n",
    "\n",
    "            y_predicted, loss = train_step(x_batch, y_batch, model, optimizer, criterion, use_gpu)\n",
    "\n",
    "            cumulative_train_loss += loss.item()\n",
    "            train_loss_count += 1\n",
    "            train_acc_count += y_batch.shape[0]\n",
    "\n",
    "            # Calculamos número de aciertos\n",
    "            class_prediction = torch.argmax(y_predicted, axis=1).long()\n",
    "            cumulative_train_corrects += (y_batch == class_prediction).sum().item()\n",
    "\n",
    "            if (i % (n_batches // n_evaluations_per_epoch) == 0) and (i > 0):\n",
    "                train_loss = cumulative_train_loss / train_loss_count\n",
    "                train_acc = cumulative_train_corrects / train_acc_count\n",
    "\n",
    "                print(f\"Iteration {iteration} - Batch {i}/{len(train_loader)} - Train loss: {train_loss}, Train acc: {train_acc}\")\n",
    "\n",
    "            iteration += 1\n",
    "\n",
    "        model.eval()\n",
    "        with torch.no_grad():\n",
    "            val_acc, val_loss = evaluate(val_loader, model, criterion, use_gpu)\n",
    "\n",
    "        print(f\"Val loss: {val_loss}, Val acc: {val_acc}\")\n",
    "\n",
    "        train_loss = cumulative_train_loss / train_loss_count\n",
    "        train_acc = cumulative_train_corrects / train_acc_count\n",
    "\n",
    "        curves[\"train_acc\"].append(train_acc)\n",
    "        curves[\"val_acc\"].append(val_acc)\n",
    "        curves[\"train_loss\"].append(train_loss)\n",
    "        curves[\"val_loss\"].append(val_loss)\n",
    "\n",
    "    print()\n",
    "    print(f\"Tiempo total de entrenamiento: {time.perf_counter() - t0:.4f} [s]\")\n",
    "\n",
    "    model.cpu()\n",
    "\n",
    "    if data_augmentation:\n",
    "        train_dataset.dataset.transform = original_transform\n",
    "\n",
    "    return curves"
   ]
  },
  {
   "cell_type": "code",
   "execution_count": 29,
   "metadata": {},
   "outputs": [
    {
     "name": "stdout",
     "output_type": "stream",
     "text": [
      "1\n",
      "4\n",
      "0\n",
      "2\n",
      "5\n",
      "1\n",
      "3\n",
      "6\n",
      "2\n"
     ]
    }
   ],
   "source": [
    "a=np.array([1,2,3])\n",
    "b=np.array([4,5,6])\n",
    "c=np.arange(len(a))\n",
    "for x,y,i in zip(a,b,c):\n",
    "    print(x)\n",
    "    print(y)\n",
    "    print(i)"
   ]
  },
  {
   "cell_type": "markdown",
   "metadata": {},
   "source": [
    "# Training"
   ]
  },
  {
   "cell_type": "code",
   "execution_count": null,
   "metadata": {},
   "outputs": [],
   "source": [
    "lr = 5e-4\n",
    "batch_size = 64\n",
    "criterion = nn.CrossEntropyLoss()\n",
    "epochs = 30\n",
    "\n",
    "CNN1 = CNN_Model(dropout_p=0.5)\n",
    "curves = train_model(\n",
    "    CNN1,\n",
    "    train_cifar10,\n",
    "    val_cifar10,\n",
    "    epochs,\n",
    "    criterion,\n",
    "    batch_size,\n",
    "    lr,\n",
    "    use_gpu=False,\n",
    "    data_augmentation=False,\n",
    ")\n",
    "\n",
    "show_curves(curves)"
   ]
  }
 ],
 "metadata": {
  "kernelspec": {
   "display_name": "Python 3.8.3 ('base')",
   "language": "python",
   "name": "python3"
  },
  "language_info": {
   "codemirror_mode": {
    "name": "ipython",
    "version": 3
   },
   "file_extension": ".py",
   "mimetype": "text/x-python",
   "name": "python",
   "nbconvert_exporter": "python",
   "pygments_lexer": "ipython3",
   "version": "3.8.3"
  },
  "orig_nbformat": 4,
  "vscode": {
   "interpreter": {
    "hash": "e654902f1877883cfc0f8194d1615c44937abe63f3bb0e0105192e55863f0170"
   }
  }
 },
 "nbformat": 4,
 "nbformat_minor": 2
}
